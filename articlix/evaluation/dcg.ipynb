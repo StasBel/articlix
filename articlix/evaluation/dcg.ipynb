{
 "cells": [
  {
   "cell_type": "code",
   "execution_count": 1,
   "metadata": {},
   "outputs": [],
   "source": [
    "import numpy as np\n",
    "import pandas as pd"
   ]
  },
  {
   "cell_type": "code",
   "execution_count": 2,
   "metadata": {},
   "outputs": [
    {
     "name": "stdout",
     "output_type": "stream",
     "text": [
      "CPU times: user 4.16 ms, sys: 1.81 ms, total: 5.97 ms\n",
      "Wall time: 4.96 ms\n"
     ]
    }
   ],
   "source": [
    "%%time \n",
    "df = pd.read_csv('../../data/assessors.csv', sep='\\t', \n",
    "                 names='ip, query, prior, sort_by, pos, asses'.split(', '))"
   ]
  },
  {
   "cell_type": "code",
   "execution_count": 3,
   "metadata": {},
   "outputs": [
    {
     "data": {
      "text/html": [
       "<div>\n",
       "<style scoped>\n",
       "    .dataframe tbody tr th:only-of-type {\n",
       "        vertical-align: middle;\n",
       "    }\n",
       "\n",
       "    .dataframe tbody tr th {\n",
       "        vertical-align: top;\n",
       "    }\n",
       "\n",
       "    .dataframe thead th {\n",
       "        text-align: right;\n",
       "    }\n",
       "</style>\n",
       "<table border=\"1\" class=\"dataframe\">\n",
       "  <thead>\n",
       "    <tr style=\"text-align: right;\">\n",
       "      <th></th>\n",
       "      <th>ip</th>\n",
       "      <th>query</th>\n",
       "      <th>prior</th>\n",
       "      <th>sort_by</th>\n",
       "      <th>pos</th>\n",
       "      <th>asses</th>\n",
       "    </tr>\n",
       "  </thead>\n",
       "  <tbody>\n",
       "    <tr>\n",
       "      <th>0</th>\n",
       "      <td>188.242.138.9</td>\n",
       "      <td>machin learning</td>\n",
       "      <td>deap</td>\n",
       "      <td>scores</td>\n",
       "      <td>0</td>\n",
       "      <td>5</td>\n",
       "    </tr>\n",
       "    <tr>\n",
       "      <th>1</th>\n",
       "      <td>188.242.138.9</td>\n",
       "      <td>machin learning</td>\n",
       "      <td>deap</td>\n",
       "      <td>scores</td>\n",
       "      <td>1</td>\n",
       "      <td>4</td>\n",
       "    </tr>\n",
       "    <tr>\n",
       "      <th>2</th>\n",
       "      <td>188.242.138.9</td>\n",
       "      <td>machin learning</td>\n",
       "      <td>deap</td>\n",
       "      <td>scores</td>\n",
       "      <td>2</td>\n",
       "      <td>5</td>\n",
       "    </tr>\n",
       "    <tr>\n",
       "      <th>3</th>\n",
       "      <td>188.242.138.9</td>\n",
       "      <td>machin learning</td>\n",
       "      <td>deap</td>\n",
       "      <td>scores</td>\n",
       "      <td>3</td>\n",
       "      <td>5</td>\n",
       "    </tr>\n",
       "    <tr>\n",
       "      <th>4</th>\n",
       "      <td>188.242.138.9</td>\n",
       "      <td>machin learning</td>\n",
       "      <td>deap</td>\n",
       "      <td>scores</td>\n",
       "      <td>4</td>\n",
       "      <td>5</td>\n",
       "    </tr>\n",
       "  </tbody>\n",
       "</table>\n",
       "</div>"
      ],
      "text/plain": [
       "              ip            query prior sort_by  pos  asses\n",
       "0  188.242.138.9  machin learning  deap  scores    0      5\n",
       "1  188.242.138.9  machin learning  deap  scores    1      4\n",
       "2  188.242.138.9  machin learning  deap  scores    2      5\n",
       "3  188.242.138.9  machin learning  deap  scores    3      5\n",
       "4  188.242.138.9  machin learning  deap  scores    4      5"
      ]
     },
     "execution_count": 3,
     "metadata": {},
     "output_type": "execute_result"
    }
   ],
   "source": [
    "df.head()"
   ]
  },
  {
   "cell_type": "code",
   "execution_count": 4,
   "metadata": {},
   "outputs": [
    {
     "data": {
      "text/plain": [
       "ip         object\n",
       "query      object\n",
       "prior      object\n",
       "sort_by    object\n",
       "pos         int64\n",
       "asses       int64\n",
       "dtype: object"
      ]
     },
     "execution_count": 4,
     "metadata": {},
     "output_type": "execute_result"
    }
   ],
   "source": [
    "df.dtypes"
   ]
  },
  {
   "cell_type": "code",
   "execution_count": 5,
   "metadata": {},
   "outputs": [],
   "source": [
    "ground_truth = dict(np.round(df.groupby(['query', 'prior', 'pos'])['asses'].mean()).iteritems())\n",
    "for k in ground_truth:\n",
    "    ground_truth[k] = 5"
   ]
  },
  {
   "cell_type": "code",
   "execution_count": 7,
   "metadata": {},
   "outputs": [],
   "source": [
    "def dcg(R, k):\n",
    "    return np.sum((2 ** (R - 1) - 1) / np.log(k + 2))"
   ]
  },
  {
   "cell_type": "code",
   "execution_count": 8,
   "metadata": {},
   "outputs": [],
   "source": [
    "R, k = df.asses.as_matrix(), df.pos.as_matrix()\n",
    "DCG = dcg(R, k)\n",
    "best_scores = np.array([ground_truth[(r.query, r.prior, r.pos)] for _, r in df.iterrows()])\n",
    "DCG_ideal = dcg(best_scores, k)\n",
    "NDCG = DCG / DCG_ideal"
   ]
  },
  {
   "cell_type": "code",
   "execution_count": 9,
   "metadata": {},
   "outputs": [
    {
     "data": {
      "text/plain": [
       "0.66578969059503978"
      ]
     },
     "execution_count": 9,
     "metadata": {},
     "output_type": "execute_result"
    }
   ],
   "source": [
    "NDCG"
   ]
  }
 ],
 "metadata": {
  "kernelspec": {
   "display_name": "Python 3",
   "language": "python",
   "name": "python3"
  },
  "language_info": {
   "codemirror_mode": {
    "name": "ipython",
    "version": 3
   },
   "file_extension": ".py",
   "mimetype": "text/x-python",
   "name": "python",
   "nbconvert_exporter": "python",
   "pygments_lexer": "ipython3",
   "version": "3.6.2"
  }
 },
 "nbformat": 4,
 "nbformat_minor": 2
}
