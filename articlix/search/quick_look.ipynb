{
 "cells": [
  {
   "cell_type": "code",
   "execution_count": 3,
   "metadata": {},
   "outputs": [],
   "source": [
    "import sys\n",
    "import ujson\n",
    "import numpy as np\n",
    "import pandas as pd"
   ]
  },
  {
   "cell_type": "code",
   "execution_count": 4,
   "metadata": {},
   "outputs": [
    {
     "name": "stdout",
     "output_type": "stream",
     "text": [
      "CPU times: user 32.8 s, sys: 16.3 s, total: 49.1 s\n",
      "Wall time: 53.5 s\n"
     ]
    }
   ],
   "source": [
    "%time df = pd.read_hdf('../../data/clean_articles.h5')"
   ]
  },
  {
   "cell_type": "code",
   "execution_count": 5,
   "metadata": {},
   "outputs": [
    {
     "data": {
      "text/plain": [
       "10000"
      ]
     },
     "execution_count": 5,
     "metadata": {},
     "output_type": "execute_result"
    }
   ],
   "source": [
    "len(df)"
   ]
  },
  {
   "cell_type": "code",
   "execution_count": 6,
   "metadata": {},
   "outputs": [
    {
     "data": {
      "text/plain": [
       "fetch_date        datetime64[ns]\n",
       "url                       object\n",
       "title                     object\n",
       "ttitle_len                 int64\n",
       "content                   object\n",
       "tcontent_len               int64\n",
       "author                    object\n",
       "published_date    datetime64[ns]\n",
       "publisher                 object\n",
       "estimate_time              int64\n",
       "likes                      int64\n",
       "tags                      object\n",
       "comments                   int64\n",
       "dtype: object"
      ]
     },
     "execution_count": 6,
     "metadata": {},
     "output_type": "execute_result"
    }
   ],
   "source": [
    "df.dtypes"
   ]
  },
  {
   "cell_type": "code",
   "execution_count": 7,
   "metadata": {},
   "outputs": [
    {
     "data": {
      "text/html": [
       "<div>\n",
       "<style scoped>\n",
       "    .dataframe tbody tr th:only-of-type {\n",
       "        vertical-align: middle;\n",
       "    }\n",
       "\n",
       "    .dataframe tbody tr th {\n",
       "        vertical-align: top;\n",
       "    }\n",
       "\n",
       "    .dataframe thead th {\n",
       "        text-align: right;\n",
       "    }\n",
       "</style>\n",
       "<table border=\"1\" class=\"dataframe\">\n",
       "  <thead>\n",
       "    <tr style=\"text-align: right;\">\n",
       "      <th></th>\n",
       "      <th>fetch_date</th>\n",
       "      <th>url</th>\n",
       "      <th>title</th>\n",
       "      <th>ttitle_len</th>\n",
       "      <th>content</th>\n",
       "      <th>tcontent_len</th>\n",
       "      <th>author</th>\n",
       "      <th>published_date</th>\n",
       "      <th>publisher</th>\n",
       "      <th>estimate_time</th>\n",
       "      <th>likes</th>\n",
       "      <th>tags</th>\n",
       "      <th>comments</th>\n",
       "    </tr>\n",
       "  </thead>\n",
       "  <tbody>\n",
       "    <tr>\n",
       "      <th>1</th>\n",
       "      <td>2017-11-23 03:32:02</td>\n",
       "      <td>https://medium.com/nome-do-jogo/adeus-windows-...</td>\n",
       "      <td>Adeus Windows</td>\n",
       "      <td>3</td>\n",
       "      <td>Comecei minha carreira profissional com o Visu...</td>\n",
       "      <td>794</td>\n",
       "      <td>Carlos Brando</td>\n",
       "      <td>2007-10-01 00:00:00.000</td>\n",
       "      <td>medium</td>\n",
       "      <td>120</td>\n",
       "      <td>3</td>\n",
       "      <td>windows ubuntu linux</td>\n",
       "      <td>0</td>\n",
       "    </tr>\n",
       "    <tr>\n",
       "      <th>2</th>\n",
       "      <td>2017-11-23 03:32:02</td>\n",
       "      <td>https://medium.com/security-thinking-cap/802-1...</td>\n",
       "      <td>802.11n Wireless-N devices</td>\n",
       "      <td>9</td>\n",
       "      <td>It is not out. Dlink and Netgear have some 802...</td>\n",
       "      <td>154</td>\n",
       "      <td>Eric Vanderburg</td>\n",
       "      <td>2006-05-02 22:09:57.000</td>\n",
       "      <td>medium</td>\n",
       "      <td>0</td>\n",
       "      <td>0</td>\n",
       "      <td>dlink netgear wifi wireless</td>\n",
       "      <td>0</td>\n",
       "    </tr>\n",
       "    <tr>\n",
       "      <th>3</th>\n",
       "      <td>2017-11-23 03:32:03</td>\n",
       "      <td>https://medium.com/@akwhitney/mathochism-the-j...</td>\n",
       "      <td>Mathochism: The joys of MOOCulus</td>\n",
       "      <td>3</td>\n",
       "      <td>One woman’s attempt to revisit the math that p...</td>\n",
       "      <td>706</td>\n",
       "      <td>AK Whitney</td>\n",
       "      <td>2016-02-01 22:09:57.203</td>\n",
       "      <td>medium</td>\n",
       "      <td>240</td>\n",
       "      <td>1</td>\n",
       "      <td>education mathematics calculus</td>\n",
       "      <td>0</td>\n",
       "    </tr>\n",
       "    <tr>\n",
       "      <th>4</th>\n",
       "      <td>2017-11-23 03:32:03</td>\n",
       "      <td>https://medium.com/@brianmmcguire/meditation-o...</td>\n",
       "      <td>Meditation on Calculus, Emptiness, and The Res...</td>\n",
       "      <td>5</td>\n",
       "      <td>Perugino (Pietro di Cristoforo Vannucci) (Ital...</td>\n",
       "      <td>471</td>\n",
       "      <td>Brian M. McGuire</td>\n",
       "      <td>2016-03-27 19:25:25.005</td>\n",
       "      <td>medium</td>\n",
       "      <td>180</td>\n",
       "      <td>2</td>\n",
       "      <td>easter calculus meditation</td>\n",
       "      <td>0</td>\n",
       "    </tr>\n",
       "    <tr>\n",
       "      <th>5</th>\n",
       "      <td>2017-11-23 03:32:03</td>\n",
       "      <td>https://medium.com/@cnizzardini/cronjobs-creat...</td>\n",
       "      <td>CronJobs — Creating CronJobs with Crontab in L...</td>\n",
       "      <td>7</td>\n",
       "      <td>So I needed to setup automated backups poor ma...</td>\n",
       "      <td>182</td>\n",
       "      <td>Chris</td>\n",
       "      <td>2007-05-14 05:28:22.000</td>\n",
       "      <td>medium</td>\n",
       "      <td>0</td>\n",
       "      <td>1</td>\n",
       "      <td>linux cronjob crontab</td>\n",
       "      <td>0</td>\n",
       "    </tr>\n",
       "  </tbody>\n",
       "</table>\n",
       "</div>"
      ],
      "text/plain": [
       "           fetch_date                                                url  \\\n",
       "1 2017-11-23 03:32:02  https://medium.com/nome-do-jogo/adeus-windows-...   \n",
       "2 2017-11-23 03:32:02  https://medium.com/security-thinking-cap/802-1...   \n",
       "3 2017-11-23 03:32:03  https://medium.com/@akwhitney/mathochism-the-j...   \n",
       "4 2017-11-23 03:32:03  https://medium.com/@brianmmcguire/meditation-o...   \n",
       "5 2017-11-23 03:32:03  https://medium.com/@cnizzardini/cronjobs-creat...   \n",
       "\n",
       "                                               title  ttitle_len  \\\n",
       "1                                      Adeus Windows           3   \n",
       "2                         802.11n Wireless-N devices           9   \n",
       "3                   Mathochism: The joys of MOOCulus           3   \n",
       "4  Meditation on Calculus, Emptiness, and The Res...           5   \n",
       "5  CronJobs — Creating CronJobs with Crontab in L...           7   \n",
       "\n",
       "                                             content  tcontent_len  \\\n",
       "1  Comecei minha carreira profissional com o Visu...           794   \n",
       "2  It is not out. Dlink and Netgear have some 802...           154   \n",
       "3  One woman’s attempt to revisit the math that p...           706   \n",
       "4  Perugino (Pietro di Cristoforo Vannucci) (Ital...           471   \n",
       "5  So I needed to setup automated backups poor ma...           182   \n",
       "\n",
       "             author          published_date publisher  estimate_time  likes  \\\n",
       "1     Carlos Brando 2007-10-01 00:00:00.000    medium            120      3   \n",
       "2   Eric Vanderburg 2006-05-02 22:09:57.000    medium              0      0   \n",
       "3        AK Whitney 2016-02-01 22:09:57.203    medium            240      1   \n",
       "4  Brian M. McGuire 2016-03-27 19:25:25.005    medium            180      2   \n",
       "5             Chris 2007-05-14 05:28:22.000    medium              0      1   \n",
       "\n",
       "                             tags  comments  \n",
       "1            windows ubuntu linux         0  \n",
       "2     dlink netgear wifi wireless         0  \n",
       "3  education mathematics calculus         0  \n",
       "4      easter calculus meditation         0  \n",
       "5           linux cronjob crontab         0  "
      ]
     },
     "execution_count": 7,
     "metadata": {},
     "output_type": "execute_result"
    }
   ],
   "source": [
    "df.iloc[1:].head()"
   ]
  },
  {
   "cell_type": "code",
   "execution_count": 6,
   "metadata": {},
   "outputs": [
    {
     "name": "stdout",
     "output_type": "stream",
     "text": [
      "CPU times: user 17 s, sys: 3.73 s, total: 20.7 s\n",
      "Wall time: 22.6 s\n"
     ]
    }
   ],
   "source": [
    "%time ix = ujson.load(open('../../data/index.json', 'r'))"
   ]
  },
  {
   "cell_type": "code",
   "execution_count": 7,
   "metadata": {},
   "outputs": [
    {
     "data": {
      "text/plain": [
       "2747651"
      ]
     },
     "execution_count": 7,
     "metadata": {},
     "output_type": "execute_result"
    }
   ],
   "source": [
    "len(ix)"
   ]
  },
  {
   "cell_type": "code",
   "execution_count": 8,
   "metadata": {},
   "outputs": [
    {
     "data": {
      "text/plain": [
       "(1685, 350, 1809, 1641)"
      ]
     },
     "execution_count": 8,
     "metadata": {},
     "output_type": "execute_result"
    }
   ],
   "source": [
    "len(ix['linux']), len(ix['stat']), len(ix['java']), len(ix['math'])"
   ]
  },
  {
   "cell_type": "code",
   "execution_count": 9,
   "metadata": {},
   "outputs": [
    {
     "data": {
      "text/plain": [
       "[0, 0, True]"
      ]
     },
     "execution_count": 9,
     "metadata": {},
     "output_type": "execute_result"
    }
   ],
   "source": [
    "ix['linux'][0]"
   ]
  },
  {
   "cell_type": "code",
   "execution_count": 10,
   "metadata": {},
   "outputs": [
    {
     "data": {
      "text/plain": [
       "'The find command is used to find files in a Unix/Linux system. The grep command is used to find text within files and output. The xargs utility is used to combine commands together. This is a demonstration of using all three to search for specific text within files recursively through the directory tree. find . | xargs grep my string -risl r tells the system to perform the search recursively. i tells it to ignore cases. s tells it to suppress error messages. l lets it know we only want matching filenames. You can also send the output to a file since sometimes the lists can be very long. Once in the file it can easily be browsed using VIM or you can even grep it again. find . | xargs grep my string -risl > /mylist.grep'"
      ]
     },
     "execution_count": 10,
     "metadata": {},
     "output_type": "execute_result"
    }
   ],
   "source": [
    "df.content[0]"
   ]
  },
  {
   "cell_type": "code",
   "execution_count": 11,
   "metadata": {},
   "outputs": [
    {
     "data": {
      "text/plain": [
       "['statist']"
      ]
     },
     "execution_count": 11,
     "metadata": {},
     "output_type": "execute_result"
    }
   ],
   "source": [
    "get_tokens('statistics')"
   ]
  },
  {
   "cell_type": "code",
   "execution_count": 12,
   "metadata": {},
   "outputs": [
    {
     "data": {
      "text/plain": [
       "1067"
      ]
     },
     "execution_count": 12,
     "metadata": {},
     "output_type": "execute_result"
    }
   ],
   "source": [
    "len(ix['statist'])"
   ]
  },
  {
   "cell_type": "code",
   "execution_count": 13,
   "metadata": {},
   "outputs": [
    {
     "data": {
      "text/plain": [
       "6.9652888958605006"
      ]
     },
     "execution_count": 13,
     "metadata": {},
     "output_type": "execute_result"
    }
   ],
   "source": [
    "np.mean([len(v) for v in ix.values()])"
   ]
  }
 ],
 "metadata": {
  "kernelspec": {
   "display_name": "Python 3",
   "language": "python",
   "name": "python3"
  },
  "language_info": {
   "codemirror_mode": {
    "name": "ipython",
    "version": 3
   },
   "file_extension": ".py",
   "mimetype": "text/x-python",
   "name": "python",
   "nbconvert_exporter": "python",
   "pygments_lexer": "ipython3",
   "version": "3.6.2"
  }
 },
 "nbformat": 4,
 "nbformat_minor": 2
}
