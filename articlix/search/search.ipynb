{
 "cells": [
  {
   "cell_type": "code",
   "execution_count": 63,
   "metadata": {},
   "outputs": [],
   "source": [
    "import sys\n",
    "import ujson\n",
    "import numpy as np\n",
    "import pandas as pd\n",
    "\n",
    "from search import Articlix\n",
    "\n",
    "sys.path.append(\"..\")\n",
    "from index.index import get_tokens\n",
    "\n",
    "%reload_ext autoreload\n",
    "%autoreload 1\n",
    "%aimport search"
   ]
  },
  {
   "cell_type": "code",
   "execution_count": 3,
   "metadata": {},
   "outputs": [
    {
     "name": "stdout",
     "output_type": "stream",
     "text": [
      "CPU times: user 31 s, sys: 14.7 s, total: 45.7 s\n",
      "Wall time: 52.4 s\n"
     ]
    }
   ],
   "source": [
    "%time df = pd.read_hdf('../../data/clean_articles.h5')"
   ]
  },
  {
   "cell_type": "code",
   "execution_count": 4,
   "metadata": {},
   "outputs": [
    {
     "name": "stdout",
     "output_type": "stream",
     "text": [
      "CPU times: user 18.2 s, sys: 5.97 s, total: 24.2 s\n",
      "Wall time: 27.2 s\n"
     ]
    }
   ],
   "source": [
    "%time ix = ujson.load(open('../../data/index.json', 'r'))"
   ]
  },
  {
   "cell_type": "code",
   "execution_count": 93,
   "metadata": {},
   "outputs": [
    {
     "data": {
      "text/plain": [
       "[(3.254850033868502,\n",
       "  'https://medium.com/the-lindberg-interviews/interview-with-virtual-reality-pioneer-philip-rosedale-founder-of-second-life-4d4d141a167e'),\n",
       " (3.1798076955628707,\n",
       "  'https://medium.com/the-mission/the-principles-of-life-that-everyone-knows-but-only-a-few-follow-51588060903c'),\n",
       " (3.1549736073173196,\n",
       "  'https://medium.com/@garywonning/rules-for-traveling-down-the-road-of-life-8aaffbbe7313'),\n",
       " (3.1398530110678857,\n",
       "  'https://medium.com/@ahoppin/second-life-targets-existing-branded-web-communities-a710f573b020'),\n",
       " (3.1332361156922395,\n",
       "  'https://medium.com/michaelwhite1/are-you-satisfied-7a92fe2ea108')]"
      ]
     },
     "execution_count": 93,
     "metadata": {},
     "output_type": "execute_result"
    }
   ],
   "source": [
    "ss = Articlix(df, ix, spellcheck=False)\n",
    "ss.find('meserable life', add_scores=True)"
   ]
  },
  {
   "cell_type": "code",
   "execution_count": 94,
   "metadata": {},
   "outputs": [
    {
     "data": {
      "text/plain": [
       "[(9.608689471767399,\n",
       "  'https://medium.com/@jamesgarside_/no-one-gives-a-shit-about-your-blog-f06a2df4efa8'),\n",
       " (9.40971141029683,\n",
       "  'https://medium.com/@jezhalford/making-kanban-work-for-you-eadfe82cd4c8'),\n",
       " (9.401629401118093,\n",
       "  'https://medium.com/@leenasn/the-truth-about-employee-engagement-60d144b3b56e'),\n",
       " (8.888858432831864,\n",
       "  'https://medium.com/media-ethnography/similarities-between-the-film-and-video-game-industries-3ab6090570e7'),\n",
       " (8.224803474161353,\n",
       "  'https://medium.com/21st-century-career/dear-corporates-a-quarter-of-a-million-of-your-workforce-are-escaping-9ff236148437')]"
      ]
     },
     "execution_count": 94,
     "metadata": {},
     "output_type": "execute_result"
    }
   ],
   "source": [
    "ss = Articlix(df, ix, spellcheck=True)\n",
    "ss.find('meserable life', add_scores=True)  # -> miserable life"
   ]
  }
 ],
 "metadata": {
  "kernelspec": {
   "display_name": "Python 3",
   "language": "python",
   "name": "python3"
  },
  "language_info": {
   "codemirror_mode": {
    "name": "ipython",
    "version": 3
   },
   "file_extension": ".py",
   "mimetype": "text/x-python",
   "name": "python",
   "nbconvert_exporter": "python",
   "pygments_lexer": "ipython3",
   "version": "3.6.2"
  }
 },
 "nbformat": 4,
 "nbformat_minor": 2
}
